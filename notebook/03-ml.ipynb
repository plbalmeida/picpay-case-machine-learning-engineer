{
 "cells": [
  {
   "cell_type": "code",
   "execution_count": 11,
   "metadata": {},
   "outputs": [
    {
     "name": "stdout",
     "output_type": "stream",
     "text": [
      "Mean Squared Error: 1896.169563267451\n",
      "R^2 Score: 0.049822702217329984\n"
     ]
    },
    {
     "data": {
      "text/plain": [
       "['../model/flight_delay_model.joblib']"
      ]
     },
     "execution_count": 11,
     "metadata": {},
     "output_type": "execute_result"
    }
   ],
   "source": [
    "import pandas as pd\n",
    "from sklearn.model_selection import train_test_split\n",
    "from sklearn.linear_model import LinearRegression\n",
    "from sklearn.metrics import mean_squared_error, r2_score\n",
    "import joblib\n",
    "\n",
    "\n",
    "# leitura e remoção de valores nulos no campo 'arr_delay'\n",
    "df = pd.read_csv(\"../data/processed/airports-database.csv\")\n",
    "df = df.dropna(subset=[\"arr_delay\"])\n",
    "\n",
    "# seleção de features \n",
    "features = [\"month\", \"day\", \"hour\", \"sched_dep_time\", \"sched_arr_time\", \"origin\", \"dest\", \"carrier\", \"distance\"]\n",
    "\n",
    "X = df[features]\n",
    "y = df[\"arr_delay\"]\n",
    "\n",
    "# one-hot encoding para as variáveis categóricas\n",
    "X = pd.get_dummies(X, columns=[\"carrier\", \"origin\", \"dest\"], drop_first=True)\n",
    "\n",
    "# split do dataset em conjuntos de treino e teste\n",
    "X_train, X_test, y_train, y_test = train_test_split(X, y, test_size=0.3, random_state=123)\n",
    "\n",
    "# instanciando e treinando o modelo\n",
    "model = LinearRegression()\n",
    "model.fit(X_train, y_train)\n",
    "\n",
    "# predições no conjunto de teste\n",
    "y_pred = model.predict(X_test)\n",
    "\n",
    "# avaliação do modelo\n",
    "mse = mean_squared_error(y_test, y_pred)\n",
    "r2 = r2_score(y_test, y_pred)\n",
    "\n",
    "print(f\"Mean Squared Error: {mse}\")\n",
    "print(f\"R^2 Score: {r2}\")\n",
    "\n",
    "# salvando binário do modelo treinado\n",
    "joblib.dump(model, \"../model/flight_delay_model.joblib\")"
   ]
  }
 ],
 "metadata": {
  "kernelspec": {
   "display_name": "venv",
   "language": "python",
   "name": "python3"
  },
  "language_info": {
   "codemirror_mode": {
    "name": "ipython",
    "version": 3
   },
   "file_extension": ".py",
   "mimetype": "text/x-python",
   "name": "python",
   "nbconvert_exporter": "python",
   "pygments_lexer": "ipython3",
   "version": "3.10.12"
  }
 },
 "nbformat": 4,
 "nbformat_minor": 2
}
