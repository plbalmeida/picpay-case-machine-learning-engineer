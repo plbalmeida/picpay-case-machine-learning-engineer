{
 "cells": [
  {
   "cell_type": "code",
   "execution_count": 1,
   "metadata": {},
   "outputs": [
    {
     "name": "stderr",
     "output_type": "stream",
     "text": [
      "your 131072x1 screen size is bogus. expect trouble\n",
      "24/10/10 15:07:32 WARN Utils: Your hostname, ubuntu resolves to a loopback address: 127.0.1.1; using 172.24.246.235 instead (on interface eth0)\n",
      "24/10/10 15:07:32 WARN Utils: Set SPARK_LOCAL_IP if you need to bind to another address\n",
      "Setting default log level to \"WARN\".\n",
      "To adjust logging level use sc.setLogLevel(newLevel). For SparkR, use setLogLevel(newLevel).\n",
      "24/10/10 15:07:34 WARN NativeCodeLoader: Unable to load native-hadoop library for your platform... using builtin-java classes where applicable\n",
      "24/10/10 15:07:35 WARN Utils: Service 'SparkUI' could not bind on port 4040. Attempting port 4041.\n",
      "                                                                                \r"
     ]
    }
   ],
   "source": [
    "from pyspark.sql import SparkSession\n",
    "from pyspark.sql.functions import avg, col, count, date_format, desc, max, month, row_number\n",
    "from pyspark.sql.window import Window\n",
    "\n",
    "\n",
    "# inicializando a SparkSession\n",
    "spark = SparkSession.builder.appName(\"EDA\").getOrCreate()\n",
    "\n",
    "# lendo dados de 'data/processed/'\n",
    "df = spark.read.parquet(\"../data/processed/\")"
   ]
  },
  {
   "cell_type": "code",
   "execution_count": 2,
   "metadata": {},
   "outputs": [
    {
     "name": "stderr",
     "output_type": "stream",
     "text": [
      "                                                                                \r"
     ]
    },
    {
     "name": "stdout",
     "output_type": "stream",
     "text": [
      "+------+----+-----+---+--------+--------------+---------+--------+--------------+---------+-------+------+-------+------+----+--------+--------+----+------+-------------------+--------------------+----------+---------------+-------------+\n",
      "|    id|year|month|day|dep_time|sched_dep_time|dep_delay|arr_time|sched_arr_time|arr_delay|carrier|flight|tailnum|origin|dest|air_time|distance|hour|minute|          time_hour|                name|      date|wind_spd_origin|wind_spd_dest|\n",
      "+------+----+-----+---+--------+--------------+---------+--------+--------------+---------+-------+------+-------+------+----+--------+--------+----+------+-------------------+--------------------+----------+---------------+-------------+\n",
      "|293888|2013|    8| 15|  1459.0|          1459|      0.0|  1753.0|          1827|    -34.0|     DL|   161| N16065|   JFK| SEA|   318.0|    2422|  14|    59|2013-08-15 14:00:00|Delta Air Lines Inc.|2013-08-15|           NULL|         NULL|\n",
      "|293889|2013|    8| 15|  1500.0|          1459|      1.0|  1808.0|          1801|      7.0|     9E|  3325| N935XJ|   JFK| DFW|   198.0|    1391|  14|    59|2013-08-15 14:00:00|   Endeavor Air Inc.|2013-08-15|           NULL|         NULL|\n",
      "|293890|2013|    8| 15|  1501.0|          1448|     13.0|  1654.0|          1652|      2.0|     US|  1995| N157UW|   LGA| CLT|    83.0|     544|  14|    48|2013-08-15 14:00:00|     US Airways Inc.|2013-08-15|           NULL|         NULL|\n",
      "|293891|2013|    8| 15|  1502.0|          1455|      7.0|  1655.0|          1701|     -6.0|     9E|  4120| N821AY|   JFK| CLE|    70.0|     425|  14|    55|2013-08-15 14:00:00|   Endeavor Air Inc.|2013-08-15|           NULL|         NULL|\n",
      "|293892|2013|    8| 15|  1504.0|          1505|     -1.0|  1800.0|          1801|     -1.0|     UA|  1211| N76528|   EWR| AUS|   213.0|    1504|  15|     5|2013-08-15 15:00:00|United Air Lines ...|2013-08-15|           NULL|         NULL|\n",
      "|293893|2013|    8| 15|  1506.0|          1459|      7.0|  1645.0|          1654|     -9.0|     EV|  4381| N16112|   EWR| DTW|    81.0|     488|  14|    59|2013-08-15 14:00:00|ExpressJet Airlin...|2013-08-15|           NULL|         NULL|\n",
      "|293894|2013|    8| 15|  1506.0|          1455|     11.0|  1640.0|          1635|      5.0|     MQ|  3231| N644MQ|   JFK| PIT|    62.0|     340|  14|    55|2013-08-15 14:00:00|           Envoy Air|2013-08-15|           NULL|         NULL|\n",
      "|293895|2013|    8| 15|  1506.0|          1459|      7.0|  1735.0|          1756|    -21.0|     UA|   595| N823UA|   EWR| SAN|   314.0|    2425|  14|    59|2013-08-15 14:00:00|United Air Lines ...|2013-08-15|           NULL|         NULL|\n",
      "|293896|2013|    8| 15|  1507.0|          1505|      2.0|  1812.0|          1835|    -23.0|     AA|  1769| N382AA|   JFK| MIA|   148.0|    1089|  15|     5|2013-08-15 15:00:00|American Airlines...|2013-08-15|           NULL|         NULL|\n",
      "|293897|2013|    8| 15|  1508.0|          1429|     39.0|  1920.0|          1830|     50.0|     B6|   703| N563JB|   JFK| SJU|   204.0|    1598|  14|    29|2013-08-15 14:00:00|     JetBlue Airways|2013-08-15|           NULL|         NULL|\n",
      "|293898|2013|    8| 15|  1508.0|          1443|     25.0|  1807.0|          1800|      7.0|     UA|  1631| N37253|   EWR| SFO|   341.0|    2565|  14|    43|2013-08-15 14:00:00|United Air Lines ...|2013-08-15|           NULL|         NULL|\n",
      "|293899|2013|    8| 15|  1510.0|          1500|     10.0|  1804.0|          1755|      9.0|     AA|  1813| N5EXAA|   JFK| MCO|   140.0|     944|  15|     0|2013-08-15 15:00:00|American Airlines...|2013-08-15|           NULL|         NULL|\n",
      "|293900|2013|    8| 15|  1510.0|          1510|      0.0|  1634.0|          1635|     -1.0|     MQ|  3433| N508MQ|   JFK| DCA|    48.0|     213|  15|    10|2013-08-15 15:00:00|           Envoy Air|2013-08-15|           NULL|         NULL|\n",
      "|293901|2013|    8| 15|  1512.0|          1450|     22.0|  1637.0|          1634|      3.0|     9E|  3393| N904XJ|   JFK| DCA|    48.0|     213|  14|    50|2013-08-15 14:00:00|   Endeavor Air Inc.|2013-08-15|           NULL|         NULL|\n",
      "|293902|2013|    8| 15|  1512.0|          1505|      7.0|  1701.0|          1710|     -9.0|     EV|  4181| N16151|   EWR| MCI|   150.0|    1092|  15|     5|2013-08-15 15:00:00|ExpressJet Airlin...|2013-08-15|           NULL|         NULL|\n",
      "|293903|2013|    8| 15|  1513.0|          1459|     14.0|  1756.0|          1808|    -12.0|     UA|  1587| N17245|   EWR| RSW|   148.0|    1068|  14|    59|2013-08-15 14:00:00|United Air Lines ...|2013-08-15|           NULL|         NULL|\n",
      "|293904|2013|    8| 15|  1514.0|          1445|     29.0|  1804.0|          1747|     17.0|     B6|  1171| N571JB|   LGA| FLL|   149.0|    1076|  14|    45|2013-08-15 14:00:00|     JetBlue Airways|2013-08-15|           NULL|         NULL|\n",
      "|293905|2013|    8| 15|  1515.0|          1520|     -5.0|  1640.0|          1705|    -25.0|     AA|  2223| N544AA|   LGA| STL|   122.0|     888|  15|    20|2013-08-15 15:00:00|American Airlines...|2013-08-15|           NULL|         NULL|\n",
      "|293906|2013|    8| 15|  1515.0|          1525|    -10.0|  1725.0|          1740|    -15.0|     MQ|  3532| N721MQ|   LGA| XNA|   169.0|    1147|  15|    25|2013-08-15 15:00:00|           Envoy Air|2013-08-15|           NULL|         NULL|\n",
      "|293907|2013|    8| 15|  1516.0|          1514|      2.0|  1629.0|          1648|    -19.0|     UA|   253| N407UA|   EWR| ORD|   103.0|     719|  15|    14|2013-08-15 15:00:00|United Air Lines ...|2013-08-15|           NULL|         NULL|\n",
      "+------+----+-----+---+--------+--------------+---------+--------+--------------+---------+-------+------+-------+------+----+--------+--------+----+------+-------------------+--------------------+----------+---------------+-------------+\n",
      "only showing top 20 rows\n",
      "\n"
     ]
    }
   ],
   "source": [
    "# primeiras linhas do DataFrame\n",
    "df.show()"
   ]
  },
  {
   "cell_type": "code",
   "execution_count": 3,
   "metadata": {},
   "outputs": [
    {
     "data": {
      "text/plain": [
       "3113"
      ]
     },
     "execution_count": 3,
     "metadata": {},
     "output_type": "execute_result"
    }
   ],
   "source": [
    "df.filter(col(\"wind_spd_origin\").isNotNull()).count()"
   ]
  },
  {
   "cell_type": "code",
   "execution_count": 4,
   "metadata": {},
   "outputs": [
    {
     "data": {
      "text/plain": [
       "0"
      ]
     },
     "execution_count": 4,
     "metadata": {},
     "output_type": "execute_result"
    }
   ],
   "source": [
    "df.filter(col(\"wind_spd_dest\").isNotNull()).count()"
   ]
  },
  {
   "cell_type": "code",
   "execution_count": 5,
   "metadata": {},
   "outputs": [
    {
     "name": "stdout",
     "output_type": "stream",
     "text": [
      "root\n",
      " |-- id: long (nullable = true)\n",
      " |-- year: long (nullable = true)\n",
      " |-- month: long (nullable = true)\n",
      " |-- day: long (nullable = true)\n",
      " |-- dep_time: double (nullable = true)\n",
      " |-- sched_dep_time: long (nullable = true)\n",
      " |-- dep_delay: double (nullable = true)\n",
      " |-- arr_time: double (nullable = true)\n",
      " |-- sched_arr_time: long (nullable = true)\n",
      " |-- arr_delay: double (nullable = true)\n",
      " |-- carrier: string (nullable = true)\n",
      " |-- flight: long (nullable = true)\n",
      " |-- tailnum: string (nullable = true)\n",
      " |-- origin: string (nullable = true)\n",
      " |-- dest: string (nullable = true)\n",
      " |-- air_time: double (nullable = true)\n",
      " |-- distance: long (nullable = true)\n",
      " |-- hour: long (nullable = true)\n",
      " |-- minute: long (nullable = true)\n",
      " |-- time_hour: timestamp (nullable = true)\n",
      " |-- name: string (nullable = true)\n",
      " |-- date: date (nullable = true)\n",
      " |-- wind_spd_origin: double (nullable = true)\n",
      " |-- wind_spd_dest: double (nullable = true)\n",
      "\n"
     ]
    }
   ],
   "source": [
    "# schema da tabela\n",
    "df.printSchema()"
   ]
  },
  {
   "cell_type": "code",
   "execution_count": 6,
   "metadata": {},
   "outputs": [
    {
     "name": "stdout",
     "output_type": "stream",
     "text": [
      "Número total de voos: 336776\n"
     ]
    }
   ],
   "source": [
    "# 1. número total de voos\n",
    "total_flights = df.count()\n",
    "print(f\"Número total de voos: {total_flights}\")"
   ]
  },
  {
   "cell_type": "code",
   "execution_count": 7,
   "metadata": {},
   "outputs": [
    {
     "name": "stdout",
     "output_type": "stream",
     "text": [
      "Número de voos cancelados: 0\n"
     ]
    }
   ],
   "source": [
    "# 2. número de voos cancelados (dep_time e arr_time nulos)\n",
    "cancelled_flights = df.filter(col(\"dep_time\").isNull() & col(\"arr_time\").isNull()).count()\n",
    "print(f\"Número de voos cancelados: {cancelled_flights}\")"
   ]
  },
  {
   "cell_type": "code",
   "execution_count": 8,
   "metadata": {},
   "outputs": [
    {
     "name": "stdout",
     "output_type": "stream",
     "text": [
      "Atraso médio na partida: 39.37323252771895 minutos\n"
     ]
    }
   ],
   "source": [
    "# 3. atraso médio na partida (dep_delay)\n",
    "df_dep_delay = df.select(\"dep_delay\")\n",
    "avg_dep_delay = df_dep_delay.filter(col(\"dep_delay\").isNotNull() & (col(\"dep_delay\") > 0)).na.drop().select(avg(\"dep_delay\")).collect()[0][0]\n",
    "print(f\"Atraso médio na partida: {avg_dep_delay} minutos\")"
   ]
  },
  {
   "cell_type": "code",
   "execution_count": 9,
   "metadata": {},
   "outputs": [
    {
     "name": "stdout",
     "output_type": "stream",
     "text": [
      "+----+------------+\n",
      "|dest|num_landings|\n",
      "+----+------------+\n",
      "| ORD|       17283|\n",
      "| ATL|       17215|\n",
      "| LAX|       16174|\n",
      "| BOS|       15508|\n",
      "| MCO|       14082|\n",
      "+----+------------+\n",
      "\n"
     ]
    }
   ],
   "source": [
    "# 4. 5 aeroportos com maior número de pousos\n",
    "df_airports_landings = df.select(\"id\", \"dest\")\n",
    "top5_airports_landings = df_airports_landings.groupBy(\"dest\").agg(count(\"id\").alias(\"num_landings\")).orderBy(desc(\"num_landings\")).limit(5)\n",
    "top5_airports_landings.show()"
   ]
  },
  {
   "cell_type": "code",
   "execution_count": 10,
   "metadata": {},
   "outputs": [
    {
     "name": "stdout",
     "output_type": "stream",
     "text": [
      "+------+----+-----------+\n",
      "|origin|dest|num_flights|\n",
      "+------+----+-----------+\n",
      "|   JFK| LAX|      11262|\n",
      "+------+----+-----------+\n",
      "\n"
     ]
    }
   ],
   "source": [
    "# 5. rota mais frequente (par origin-dest)\n",
    "most_frequent_route = df.groupBy(\"origin\", \"dest\").agg(count(\"id\").alias(\"num_flights\")).orderBy(desc(\"num_flights\")).limit(1)\n",
    "most_frequent_route.show()"
   ]
  },
  {
   "cell_type": "code",
   "execution_count": 11,
   "metadata": {},
   "outputs": [
    {
     "name": "stdout",
     "output_type": "stream",
     "text": [
      "+-------+------------------+\n",
      "|carrier|     avg_arr_delay|\n",
      "+-------+------------------+\n",
      "|     F9|21.920704845814978|\n",
      "|     FL|20.115905511811025|\n",
      "|     EV| 15.79643108710965|\n",
      "|     YV|15.556985294117647|\n",
      "|     OO|11.931034482758621|\n",
      "+-------+------------------+\n",
      "\n"
     ]
    }
   ],
   "source": [
    "# 6. 5 companhias aéreas com maior tempo médio de atraso na chegada\n",
    "df_carriers_avg_arr_delay = df.select(\"carrier\", \"arr_delay\")\n",
    "top5_carriers_avg_arr_delay = df_carriers_avg_arr_delay.na.drop().groupBy(\"carrier\").agg(avg(\"arr_delay\").alias(\"avg_arr_delay\")).orderBy(desc(\"avg_arr_delay\")).limit(5)\n",
    "top5_carriers_avg_arr_delay.show()"
   ]
  },
  {
   "cell_type": "code",
   "execution_count": 12,
   "metadata": {},
   "outputs": [
    {
     "name": "stdout",
     "output_type": "stream",
     "text": [
      "+-----------+-----------+\n",
      "|day_of_week|num_flights|\n",
      "+-----------+-----------+\n",
      "|        Mon|      50690|\n",
      "+-----------+-----------+\n",
      "\n"
     ]
    }
   ],
   "source": [
    "# 7. dia da semana com maior número de voos\n",
    "day_of_week_with_most_flights = df.withColumn(\"day_of_week\", date_format(\"time_hour\", \"E\")).groupBy(\"day_of_week\").agg(count(\"id\").alias(\"num_flights\")).orderBy(desc(\"num_flights\")).limit(1)\n",
    "day_of_week_with_most_flights.show()"
   ]
  },
  {
   "cell_type": "code",
   "execution_count": 13,
   "metadata": {},
   "outputs": [
    {
     "name": "stdout",
     "output_type": "stream",
     "text": [
      "+-----+----------------------+\n",
      "|month|percent_delays_over_30|\n",
      "+-----+----------------------+\n",
      "|    1|      1.14942870038245|\n",
      "|    2|     1.319274532627028|\n",
      "|    3|     1.535145022210609|\n",
      "|    4|    1.5437560871320997|\n",
      "|    5|    1.4784307670380312|\n",
      "|    6|     1.997173195239566|\n",
      "|    7|    2.1120863719504954|\n",
      "|    8|    1.4027127823835428|\n",
      "|    9|    0.8524954272275934|\n",
      "|   10|    0.8709052901631944|\n",
      "|   11|    0.7782621089388793|\n",
      "|   12|    1.7507185785210346|\n",
      "+-----+----------------------+\n",
      "\n"
     ]
    }
   ],
   "source": [
    "# 8. percentual mensal dos voos que tiveram atraso na partida superior a 30 minutos\n",
    "monthly_delays_over_30 = df.filter(col(\"dep_delay\") > 30).groupBy(month(\"time_hour\").alias(\"month\")).agg((count(\"id\") / df.count() * 100).alias(\"percent_delays_over_30\"))\n",
    "monthly_delays_over_30.orderBy(col(\"month\")).show()"
   ]
  },
  {
   "cell_type": "code",
   "execution_count": 14,
   "metadata": {},
   "outputs": [
    {
     "name": "stdout",
     "output_type": "stream",
     "text": [
      "+------+-----------+\n",
      "|origin|num_flights|\n",
      "+------+-----------+\n",
      "|   JFK|       2092|\n",
      "+------+-----------+\n",
      "\n"
     ]
    }
   ],
   "source": [
    "# 9. origem mais comum para voos que pousaram em Seattle (SEA)\n",
    "most_common_origin_to_sea = df.filter(col(\"dest\") == \"SEA\").groupBy(\"origin\").agg(count(\"id\").alias(\"num_flights\")).orderBy(desc(\"num_flights\")).limit(1)\n",
    "most_common_origin_to_sea.show()"
   ]
  },
  {
   "cell_type": "code",
   "execution_count": 15,
   "metadata": {},
   "outputs": [
    {
     "name": "stdout",
     "output_type": "stream",
     "text": [
      "+-----------+------------------+\n",
      "|day_of_week|     avg_dep_delay|\n",
      "+-----------+------------------+\n",
      "|        Sun|11.589531801152422|\n",
      "|        Mon|14.778936729330908|\n",
      "|        Thu|16.148919990957108|\n",
      "|        Sat| 7.650502333676133|\n",
      "|        Wed|11.803512219083876|\n",
      "|        Fri| 14.69605749486653|\n",
      "|        Tue|10.631682565455652|\n",
      "+-----------+------------------+\n",
      "\n"
     ]
    }
   ],
   "source": [
    "# 10. média de atraso na partida dos voos para cada dia da semana\n",
    "df_avg_dep_delay_per_day = df.select(\"time_hour\", \"dep_delay\")\n",
    "\n",
    "avg_dep_delay_per_day = df_avg_dep_delay_per_day.na.drop() \\\n",
    "    .withColumn(\"day_of_week\", date_format(\"time_hour\", \"E\")) \\\n",
    "    .groupBy(\"day_of_week\") \\\n",
    "    .agg(avg(\"dep_delay\").alias(\"avg_dep_delay\"))\n",
    "\n",
    "avg_dep_delay_per_day.show()\n"
   ]
  },
  {
   "cell_type": "code",
   "execution_count": 16,
   "metadata": {},
   "outputs": [
    {
     "name": "stdout",
     "output_type": "stream",
     "text": [
      "+------+----+-----------------+\n",
      "|origin|dest|     avg_air_time|\n",
      "+------+----+-----------------+\n",
      "|   JFK| HNL|623.0877192982456|\n",
      "+------+----+-----------------+\n",
      "\n"
     ]
    }
   ],
   "source": [
    "# 11. rota com maior tempo de voo médio\n",
    "df_route_with_max_avg_airtime = df.select(\"origin\", \"dest\", \"air_time\")\n",
    "route_with_max_avg_airtime = df_route_with_max_avg_airtime.na.drop().groupBy(\"origin\", \"dest\").agg(avg(\"air_time\").alias(\"avg_air_time\")).orderBy(desc(\"avg_air_time\")).limit(1)\n",
    "route_with_max_avg_airtime.show()"
   ]
  },
  {
   "cell_type": "code",
   "execution_count": 17,
   "metadata": {},
   "outputs": [
    {
     "name": "stdout",
     "output_type": "stream",
     "text": [
      "+------+----+-----------+\n",
      "|origin|dest|num_flights|\n",
      "+------+----+-----------+\n",
      "|   EWR| ORD|       6100|\n",
      "|   JFK| LAX|      11262|\n",
      "|   LGA| ATL|      10263|\n",
      "+------+----+-----------+\n",
      "\n"
     ]
    }
   ],
   "source": [
    "# 12. aeroporto de destino mais comum para cada origem\n",
    "window_spec = Window.partitionBy(\"origin\").orderBy(desc(\"num_flights\"))\n",
    "dest_most_common_per_origin = df.groupBy(\"origin\", \"dest\").agg(count(\"id\").alias(\"num_flights\"))\\\n",
    "    .withColumn(\"rank\", row_number().over(window_spec))\\\n",
    "    .filter(col(\"rank\") == 1).drop(\"rank\")\n",
    "\n",
    "dest_most_common_per_origin.show()"
   ]
  },
  {
   "cell_type": "code",
   "execution_count": 18,
   "metadata": {},
   "outputs": [
    {
     "name": "stdout",
     "output_type": "stream",
     "text": [
      "+------+----+------------------+\n",
      "|origin|dest|air_time_variation|\n",
      "+------+----+------------------+\n",
      "|   JFK| SFO|142.59637439881612|\n",
      "|   JFK| EGE|125.55445544554453|\n",
      "|   JFK| LAX| 110.8489111927592|\n",
      "+------+----+------------------+\n",
      "\n"
     ]
    }
   ],
   "source": [
    "# 13. 3 rotas com maior variação no tempo médio de voo\n",
    "df_routes_with_max_variation_airtime = df.select(\"origin\", \"dest\", \"air_time\")\n",
    "routes_with_max_variation_airtime = df_routes_with_max_variation_airtime.na.drop().groupBy(\"origin\", \"dest\").agg((max(\"air_time\") - avg(\"air_time\")).alias(\"air_time_variation\")).orderBy(desc(\"air_time_variation\")).limit(3)\n",
    "routes_with_max_variation_airtime.show()"
   ]
  },
  {
   "cell_type": "code",
   "execution_count": 19,
   "metadata": {},
   "outputs": [
    {
     "name": "stdout",
     "output_type": "stream",
     "text": [
      "Média de atraso na chegada para voos com atraso na partida superior a 1 hora: 119.04880549963919\n"
     ]
    }
   ],
   "source": [
    "# 14. média de atraso na chegada para voos com atraso na partida superior a 1 hora\n",
    "df_avg_arr_delay_for_dep_delays_over_1hr = df.select(\"dep_delay\", \"arr_delay\")\n",
    "avg_arr_delay_for_dep_delays_over_1hr = df_avg_arr_delay_for_dep_delays_over_1hr.filter(col(\"dep_delay\") > 60).na.drop().select(avg(\"arr_delay\")).collect()[0][0]\n",
    "print(f\"Média de atraso na chegada para voos com atraso na partida superior a 1 hora: {avg_arr_delay_for_dep_delays_over_1hr}\")"
   ]
  },
  {
   "cell_type": "code",
   "execution_count": 20,
   "metadata": {},
   "outputs": [
    {
     "name": "stdout",
     "output_type": "stream",
     "text": [
      "+-----+-----------------+\n",
      "|month|avg_daily_flights|\n",
      "+-----+-----------------+\n",
      "|    1|900.1333333333333|\n",
      "|    2|            831.7|\n",
      "|    3|961.1333333333333|\n",
      "|    4|944.3333333333334|\n",
      "|    5|959.8666666666667|\n",
      "|    6|941.4333333333333|\n",
      "|    7|980.8333333333334|\n",
      "|    8|977.5666666666667|\n",
      "|    9|919.1333333333333|\n",
      "|   10|962.9666666666667|\n",
      "|   11|908.9333333333333|\n",
      "|   12|937.8333333333334|\n",
      "+-----+-----------------+\n",
      "\n"
     ]
    }
   ],
   "source": [
    "# 15. média de voos diários para cada mês\n",
    "df_daily_avg_flights_per_month = df.select(\"id\", \"time_hour\")\n",
    "daily_avg_flights_per_month = df.withColumn(\"month\", month(\"time_hour\")).groupBy(\"month\").agg((count(\"id\") / 30).alias(\"avg_daily_flights\"))\n",
    "daily_avg_flights_per_month.orderBy(col(\"month\")).show()"
   ]
  },
  {
   "cell_type": "code",
   "execution_count": 21,
   "metadata": {},
   "outputs": [
    {
     "name": "stdout",
     "output_type": "stream",
     "text": [
      "+------+----+-----------+\n",
      "|origin|dest|num_flights|\n",
      "+------+----+-----------+\n",
      "|   LGA| ATL|       1785|\n",
      "|   LGA| ORD|       1538|\n",
      "|   JFK| LAX|       1389|\n",
      "+------+----+-----------+\n",
      "\n"
     ]
    }
   ],
   "source": [
    "# 16. 3 rotas mais comuns com atrasos na chegada superiores a 30 minutos\n",
    "top3_routes_with_arr_delays_over_30 = df.filter(col(\"arr_delay\") > 30).groupBy(\"origin\", \"dest\").agg(count(\"id\").alias(\"num_flights\")).orderBy(desc(\"num_flights\")).limit(3)\n",
    "top3_routes_with_arr_delays_over_30.show()"
   ]
  },
  {
   "cell_type": "code",
   "execution_count": 22,
   "metadata": {},
   "outputs": [
    {
     "name": "stdout",
     "output_type": "stream",
     "text": [
      "+------+----+-----------+\n",
      "|origin|dest|num_flights|\n",
      "+------+----+-----------+\n",
      "|   EWR| ORD|       6100|\n",
      "|   JFK| LAX|      11262|\n",
      "|   LGA| ATL|      10263|\n",
      "+------+----+-----------+\n",
      "\n"
     ]
    }
   ],
   "source": [
    "# 17. principal destino para cada origem\n",
    "window_spec = Window.partitionBy(\"origin\").orderBy(desc(\"num_flights\"))\n",
    "main_dest_per_origin = df.groupBy(\"origin\", \"dest\").agg(count(\"id\").alias(\"num_flights\"))\\\n",
    "    .withColumn(\"rank\", row_number().over(window_spec))\\\n",
    "    .filter(col(\"rank\") == 1).drop(\"rank\")\n",
    "\n",
    "main_dest_per_origin.show()"
   ]
  },
  {
   "cell_type": "code",
   "execution_count": 25,
   "metadata": {},
   "outputs": [
    {
     "name": "stdout",
     "output_type": "stream",
     "text": [
      "+------+---------------+----+-------------+---------+\n",
      "|origin|wind_spd_origin|dest|wind_spd_dest|arr_delay|\n",
      "+------+---------------+----+-------------+---------+\n",
      "|   JFK|           NULL| HNL|         NULL|   1272.0|\n",
      "|   JFK|           NULL| CMH|         NULL|   1127.0|\n",
      "|   EWR|           NULL| ORD|         NULL|   1109.0|\n",
      "|   JFK|           NULL| SFO|         NULL|   1007.0|\n",
      "|   JFK|           NULL| CVG|         NULL|    989.0|\n",
      "+------+---------------+----+-------------+---------+\n",
      "\n"
     ]
    }
   ],
   "source": [
    "# 18. informações enriquecidas para os 5 voos com maior atraso na chegada\n",
    "top5_delay_df = df.select(\"origin\", \"wind_spd_origin\", \"dest\", \"wind_spd_dest\", \"arr_delay\")\n",
    "top5_delay_df = top5_delay_df.na.drop(subset=[\"arr_delay\"])\n",
    "top5_delay_df.orderBy(col(\"arr_delay\").desc()).limit(5).show()"
   ]
  }
 ],
 "metadata": {
  "kernelspec": {
   "display_name": "venv",
   "language": "python",
   "name": "python3"
  },
  "language_info": {
   "codemirror_mode": {
    "name": "ipython",
    "version": 3
   },
   "file_extension": ".py",
   "mimetype": "text/x-python",
   "name": "python",
   "nbconvert_exporter": "python",
   "pygments_lexer": "ipython3",
   "version": "3.10.12"
  }
 },
 "nbformat": 4,
 "nbformat_minor": 2
}
