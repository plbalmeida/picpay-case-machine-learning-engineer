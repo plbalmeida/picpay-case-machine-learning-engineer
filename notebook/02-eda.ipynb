{
 "cells": [
  {
   "cell_type": "code",
   "execution_count": 1,
   "metadata": {},
   "outputs": [],
   "source": [
    "import zipfile\n",
    "import os\n",
    "import pandas as pd\n",
    "\n",
    "\n",
    "zip_file_path = os.path.join(os.getcwd(), \"..\", \"data\", \"raw\", \"airports-database.zip\")\n",
    "with zipfile.ZipFile(zip_file_path, \"r\") as zip_ref:\n",
    "    with zip_ref.open(\"airports-database.csv\") as csv_file:\n",
    "        df = pd.read_csv(csv_file)"
   ]
  },
  {
   "cell_type": "code",
   "execution_count": 2,
   "metadata": {},
   "outputs": [
    {
     "name": "stderr",
     "output_type": "stream",
     "text": [
      "your 131072x1 screen size is bogus. expect trouble\n",
      "24/10/05 10:16:18 WARN Utils: Your hostname, ubuntu resolves to a loopback address: 127.0.1.1; using 172.24.246.235 instead (on interface eth0)\n",
      "24/10/05 10:16:18 WARN Utils: Set SPARK_LOCAL_IP if you need to bind to another address\n",
      "Setting default log level to \"WARN\".\n",
      "To adjust logging level use sc.setLogLevel(newLevel). For SparkR, use setLogLevel(newLevel).\n",
      "24/10/05 10:16:20 WARN NativeCodeLoader: Unable to load native-hadoop library for your platform... using builtin-java classes where applicable\n",
      "24/10/05 10:16:21 WARN Utils: Service 'SparkUI' could not bind on port 4040. Attempting port 4041.\n",
      "/home/plbalmeida/picpay-case-machine-learning-engineer/venv/lib/python3.10/site-packages/pyspark/sql/pandas/conversion.py:485: FutureWarning: is_datetime64tz_dtype is deprecated and will be removed in a future version. Check `isinstance(dtype, pd.DatetimeTZDtype)` instead.\n",
      "  if should_localize and is_datetime64tz_dtype(s.dtype) and s.dt.tz is not None:\n"
     ]
    }
   ],
   "source": [
    "from pyspark.sql import SparkSession\n",
    "from pyspark.sql.functions import avg, col, count, date_format, desc, max, month, row_number\n",
    "from pyspark.sql.window import Window\n",
    "\n",
    "\n",
    "# inicializando a SparkSession\n",
    "spark = SparkSession.builder.appName(\"EDA\").getOrCreate()\n",
    "\n",
    "# convertendo o DataFrame Pandas para um DataFrame Spark\n",
    "df = spark.createDataFrame(df)"
   ]
  },
  {
   "cell_type": "code",
   "execution_count": 3,
   "metadata": {},
   "outputs": [
    {
     "name": "stderr",
     "output_type": "stream",
     "text": [
      "24/10/05 10:16:56 WARN TaskSetManager: Stage 0 contains a task of very large size (3929 KiB). The maximum recommended task size is 1000 KiB.\n",
      "                                                                                \r"
     ]
    },
    {
     "name": "stdout",
     "output_type": "stream",
     "text": [
      "+---+----+-----+---+--------+--------------+---------+--------+--------------+---------+-------+------+-------+------+----+--------+--------+----+------+-------------------+--------------------+\n",
      "| id|year|month|day|dep_time|sched_dep_time|dep_delay|arr_time|sched_arr_time|arr_delay|carrier|flight|tailnum|origin|dest|air_time|distance|hour|minute|          time_hour|                name|\n",
      "+---+----+-----+---+--------+--------------+---------+--------+--------------+---------+-------+------+-------+------+----+--------+--------+----+------+-------------------+--------------------+\n",
      "|  0|2013|    1|  1|   517.0|           515|      2.0|   830.0|           819|     11.0|     UA|  1545| N14228|   EWR| IAH|   227.0|    1400|   5|    15|2013-01-01 05:00:00|United Air Lines ...|\n",
      "|  1|2013|    1|  1|   533.0|           529|      4.0|   850.0|           830|     20.0|     UA|  1714| N24211|   LGA| IAH|   227.0|    1416|   5|    29|2013-01-01 05:00:00|United Air Lines ...|\n",
      "|  2|2013|    1|  1|   542.0|           540|      2.0|   923.0|           850|     33.0|     AA|  1141| N619AA|   JFK| MIA|   160.0|    1089|   5|    40|2013-01-01 05:00:00|American Airlines...|\n",
      "|  3|2013|    1|  1|   544.0|           545|     -1.0|  1004.0|          1022|    -18.0|     B6|   725| N804JB|   JFK| BQN|   183.0|    1576|   5|    45|2013-01-01 05:00:00|     JetBlue Airways|\n",
      "|  4|2013|    1|  1|   554.0|           600|     -6.0|   812.0|           837|    -25.0|     DL|   461| N668DN|   LGA| ATL|   116.0|     762|   6|     0|2013-01-01 06:00:00|Delta Air Lines Inc.|\n",
      "|  5|2013|    1|  1|   554.0|           558|     -4.0|   740.0|           728|     12.0|     UA|  1696| N39463|   EWR| ORD|   150.0|     719|   5|    58|2013-01-01 05:00:00|United Air Lines ...|\n",
      "|  6|2013|    1|  1|   555.0|           600|     -5.0|   913.0|           854|     19.0|     B6|   507| N516JB|   EWR| FLL|   158.0|    1065|   6|     0|2013-01-01 06:00:00|     JetBlue Airways|\n",
      "|  7|2013|    1|  1|   557.0|           600|     -3.0|   709.0|           723|    -14.0|     EV|  5708| N829AS|   LGA| IAD|    53.0|     229|   6|     0|2013-01-01 06:00:00|ExpressJet Airlin...|\n",
      "|  8|2013|    1|  1|   557.0|           600|     -3.0|   838.0|           846|     -8.0|     B6|    79| N593JB|   JFK| MCO|   140.0|     944|   6|     0|2013-01-01 06:00:00|     JetBlue Airways|\n",
      "|  9|2013|    1|  1|   558.0|           600|     -2.0|   753.0|           745|      8.0|     AA|   301| N3ALAA|   LGA| ORD|   138.0|     733|   6|     0|2013-01-01 06:00:00|American Airlines...|\n",
      "| 10|2013|    1|  1|   558.0|           600|     -2.0|   849.0|           851|     -2.0|     B6|    49| N793JB|   JFK| PBI|   149.0|    1028|   6|     0|2013-01-01 06:00:00|     JetBlue Airways|\n",
      "| 11|2013|    1|  1|   558.0|           600|     -2.0|   853.0|           856|     -3.0|     B6|    71| N657JB|   JFK| TPA|   158.0|    1005|   6|     0|2013-01-01 06:00:00|     JetBlue Airways|\n",
      "| 12|2013|    1|  1|   558.0|           600|     -2.0|   924.0|           917|      7.0|     UA|   194| N29129|   JFK| LAX|   345.0|    2475|   6|     0|2013-01-01 06:00:00|United Air Lines ...|\n",
      "| 13|2013|    1|  1|   558.0|           600|     -2.0|   923.0|           937|    -14.0|     UA|  1124| N53441|   EWR| SFO|   361.0|    2565|   6|     0|2013-01-01 06:00:00|United Air Lines ...|\n",
      "| 14|2013|    1|  1|   559.0|           600|     -1.0|   941.0|           910|     31.0|     AA|   707| N3DUAA|   LGA| DFW|   257.0|    1389|   6|     0|2013-01-01 06:00:00|American Airlines...|\n",
      "| 15|2013|    1|  1|   559.0|           559|      0.0|   702.0|           706|     -4.0|     B6|  1806| N708JB|   JFK| BOS|    44.0|     187|   5|    59|2013-01-01 05:00:00|     JetBlue Airways|\n",
      "| 16|2013|    1|  1|   559.0|           600|     -1.0|   854.0|           902|     -8.0|     UA|  1187| N76515|   EWR| LAS|   337.0|    2227|   6|     0|2013-01-01 06:00:00|United Air Lines ...|\n",
      "| 17|2013|    1|  1|   600.0|           600|      0.0|   851.0|           858|     -7.0|     B6|   371| N595JB|   LGA| FLL|   152.0|    1076|   6|     0|2013-01-01 06:00:00|     JetBlue Airways|\n",
      "| 18|2013|    1|  1|   600.0|           600|      0.0|   837.0|           825|     12.0|     MQ|  4650| N542MQ|   LGA| ATL|   134.0|     762|   6|     0|2013-01-01 06:00:00|           Envoy Air|\n",
      "| 19|2013|    1|  1|   601.0|           600|      1.0|   844.0|           850|     -6.0|     B6|   343| N644JB|   EWR| PBI|   147.0|    1023|   6|     0|2013-01-01 06:00:00|     JetBlue Airways|\n",
      "+---+----+-----+---+--------+--------------+---------+--------+--------------+---------+-------+------+-------+------+----+--------+--------+----+------+-------------------+--------------------+\n",
      "only showing top 20 rows\n",
      "\n"
     ]
    }
   ],
   "source": [
    "# primeiras linhas do DataFrame\n",
    "df.show()"
   ]
  },
  {
   "cell_type": "code",
   "execution_count": 4,
   "metadata": {},
   "outputs": [
    {
     "name": "stdout",
     "output_type": "stream",
     "text": [
      "root\n",
      " |-- id: long (nullable = true)\n",
      " |-- year: long (nullable = true)\n",
      " |-- month: long (nullable = true)\n",
      " |-- day: long (nullable = true)\n",
      " |-- dep_time: double (nullable = true)\n",
      " |-- sched_dep_time: long (nullable = true)\n",
      " |-- dep_delay: double (nullable = true)\n",
      " |-- arr_time: double (nullable = true)\n",
      " |-- sched_arr_time: long (nullable = true)\n",
      " |-- arr_delay: double (nullable = true)\n",
      " |-- carrier: string (nullable = true)\n",
      " |-- flight: long (nullable = true)\n",
      " |-- tailnum: string (nullable = true)\n",
      " |-- origin: string (nullable = true)\n",
      " |-- dest: string (nullable = true)\n",
      " |-- air_time: double (nullable = true)\n",
      " |-- distance: long (nullable = true)\n",
      " |-- hour: long (nullable = true)\n",
      " |-- minute: long (nullable = true)\n",
      " |-- time_hour: string (nullable = true)\n",
      " |-- name: string (nullable = true)\n",
      "\n"
     ]
    }
   ],
   "source": [
    "# schema da tabela\n",
    "df.printSchema()"
   ]
  },
  {
   "cell_type": "code",
   "execution_count": 5,
   "metadata": {},
   "outputs": [
    {
     "name": "stderr",
     "output_type": "stream",
     "text": [
      "24/10/05 10:16:58 WARN TaskSetManager: Stage 1 contains a task of very large size (3929 KiB). The maximum recommended task size is 1000 KiB.\n",
      "[Stage 1:>                                                          (0 + 8) / 8]\r"
     ]
    },
    {
     "name": "stdout",
     "output_type": "stream",
     "text": [
      "Número total de voos: 336776\n"
     ]
    },
    {
     "name": "stderr",
     "output_type": "stream",
     "text": [
      "                                                                                \r"
     ]
    }
   ],
   "source": [
    "# 1. número total de voos\n",
    "total_flights = df.count()\n",
    "print(f\"Número total de voos: {total_flights}\")"
   ]
  },
  {
   "cell_type": "code",
   "execution_count": 6,
   "metadata": {},
   "outputs": [
    {
     "name": "stderr",
     "output_type": "stream",
     "text": [
      "24/10/05 10:17:00 WARN TaskSetManager: Stage 4 contains a task of very large size (3929 KiB). The maximum recommended task size is 1000 KiB.\n",
      "[Stage 4:=======>                                                   (1 + 7) / 8]\r"
     ]
    },
    {
     "name": "stdout",
     "output_type": "stream",
     "text": [
      "Número de voos cancelados: 0\n"
     ]
    },
    {
     "name": "stderr",
     "output_type": "stream",
     "text": [
      "                                                                                \r"
     ]
    }
   ],
   "source": [
    "# 2. número de voos cancelados (dep_time e arr_time nulos)\n",
    "cancelled_flights = df.filter(col(\"dep_time\").isNull() & col(\"arr_time\").isNull()).count()\n",
    "print(f\"Número de voos cancelados: {cancelled_flights}\")"
   ]
  },
  {
   "cell_type": "code",
   "execution_count": 7,
   "metadata": {},
   "outputs": [
    {
     "name": "stderr",
     "output_type": "stream",
     "text": [
      "24/10/05 10:17:01 WARN TaskSetManager: Stage 7 contains a task of very large size (3929 KiB). The maximum recommended task size is 1000 KiB.\n",
      "[Stage 7:>                                                          (0 + 8) / 8]\r"
     ]
    },
    {
     "name": "stdout",
     "output_type": "stream",
     "text": [
      "Atraso médio na partida: 39.237473090923324 minutos\n"
     ]
    },
    {
     "name": "stderr",
     "output_type": "stream",
     "text": [
      "                                                                                \r"
     ]
    }
   ],
   "source": [
    "# 3. atraso médio na partida (dep_delay)\n",
    "avg_dep_delay = df.filter(col(\"dep_delay\").isNotNull() & (col(\"dep_delay\") > 0)).na.drop().select(avg(\"dep_delay\")).collect()[0][0]\n",
    "print(f\"Atraso médio na partida: {avg_dep_delay} minutos\")"
   ]
  },
  {
   "cell_type": "code",
   "execution_count": 8,
   "metadata": {},
   "outputs": [
    {
     "name": "stderr",
     "output_type": "stream",
     "text": [
      "24/10/05 10:17:03 WARN TaskSetManager: Stage 10 contains a task of very large size (3929 KiB). The maximum recommended task size is 1000 KiB.\n",
      "[Stage 10:>                                                         (0 + 8) / 8]\r"
     ]
    },
    {
     "name": "stdout",
     "output_type": "stream",
     "text": [
      "+----+------------+\n",
      "|dest|num_landings|\n",
      "+----+------------+\n",
      "| ORD|       17283|\n",
      "| ATL|       17215|\n",
      "| LAX|       16174|\n",
      "| BOS|       15508|\n",
      "| MCO|       14082|\n",
      "+----+------------+\n",
      "\n"
     ]
    },
    {
     "name": "stderr",
     "output_type": "stream",
     "text": [
      "                                                                                \r"
     ]
    }
   ],
   "source": [
    "# 4. 5 aeroportos com maior número de pousos\n",
    "top5_airports_landings = df.groupBy(\"dest\").agg(count(\"id\").alias(\"num_landings\")).orderBy(desc(\"num_landings\")).limit(5)\n",
    "top5_airports_landings.show()"
   ]
  },
  {
   "cell_type": "code",
   "execution_count": 9,
   "metadata": {},
   "outputs": [
    {
     "name": "stderr",
     "output_type": "stream",
     "text": [
      "24/10/05 10:17:04 WARN TaskSetManager: Stage 13 contains a task of very large size (3929 KiB). The maximum recommended task size is 1000 KiB.\n",
      "                                                                                \r"
     ]
    },
    {
     "name": "stdout",
     "output_type": "stream",
     "text": [
      "+------+----+-----------+\n",
      "|origin|dest|num_flights|\n",
      "+------+----+-----------+\n",
      "|   JFK| LAX|      11262|\n",
      "+------+----+-----------+\n",
      "\n"
     ]
    }
   ],
   "source": [
    "# 5. rota mais frequente (par origin-dest)\n",
    "most_frequent_route = df.groupBy(\"origin\", \"dest\").agg(count(\"id\").alias(\"num_flights\")).orderBy(desc(\"num_flights\")).limit(1)\n",
    "most_frequent_route.show()"
   ]
  },
  {
   "cell_type": "code",
   "execution_count": 10,
   "metadata": {},
   "outputs": [
    {
     "name": "stderr",
     "output_type": "stream",
     "text": [
      "24/10/05 10:17:06 WARN TaskSetManager: Stage 16 contains a task of very large size (3929 KiB). The maximum recommended task size is 1000 KiB.\n",
      "[Stage 16:>                                                         (0 + 8) / 8]\r"
     ]
    },
    {
     "name": "stdout",
     "output_type": "stream",
     "text": [
      "+-------+------------------+\n",
      "|carrier|     avg_arr_delay|\n",
      "+-------+------------------+\n",
      "|     F9|21.920704845814978|\n",
      "|     FL|20.115905511811025|\n",
      "|     EV| 15.79643108710965|\n",
      "|     YV|15.556985294117647|\n",
      "|     OO|11.931034482758621|\n",
      "+-------+------------------+\n",
      "\n"
     ]
    },
    {
     "name": "stderr",
     "output_type": "stream",
     "text": [
      "                                                                                \r"
     ]
    }
   ],
   "source": [
    "# 6. 5 companhias aéreas com maior tempo médio de atraso na chegada\n",
    "top5_carriers_avg_arr_delay = df.na.drop().groupBy(\"carrier\").agg(avg(\"arr_delay\").alias(\"avg_arr_delay\")).orderBy(desc(\"avg_arr_delay\")).limit(5)\n",
    "top5_carriers_avg_arr_delay.show()"
   ]
  },
  {
   "cell_type": "code",
   "execution_count": 11,
   "metadata": {},
   "outputs": [
    {
     "name": "stderr",
     "output_type": "stream",
     "text": [
      "24/10/05 10:17:07 WARN TaskSetManager: Stage 19 contains a task of very large size (3929 KiB). The maximum recommended task size is 1000 KiB.\n",
      "[Stage 19:>                                                         (0 + 8) / 8]\r"
     ]
    },
    {
     "name": "stdout",
     "output_type": "stream",
     "text": [
      "+-----------+-----------+\n",
      "|day_of_week|num_flights|\n",
      "+-----------+-----------+\n",
      "|        Mon|      50690|\n",
      "+-----------+-----------+\n",
      "\n"
     ]
    },
    {
     "name": "stderr",
     "output_type": "stream",
     "text": [
      "                                                                                \r"
     ]
    }
   ],
   "source": [
    "# 7. dia da semana com maior número de voos\n",
    "day_of_week_with_most_flights = df.withColumn(\"day_of_week\", date_format(\"time_hour\", \"E\")).groupBy(\"day_of_week\").agg(count(\"id\").alias(\"num_flights\")).orderBy(desc(\"num_flights\")).limit(1)\n",
    "day_of_week_with_most_flights.show()"
   ]
  },
  {
   "cell_type": "code",
   "execution_count": 12,
   "metadata": {},
   "outputs": [
    {
     "name": "stderr",
     "output_type": "stream",
     "text": [
      "24/10/05 10:17:09 WARN TaskSetManager: Stage 22 contains a task of very large size (3929 KiB). The maximum recommended task size is 1000 KiB.\n",
      "24/10/05 10:17:10 WARN TaskSetManager: Stage 25 contains a task of very large size (3929 KiB). The maximum recommended task size is 1000 KiB.\n",
      "[Stage 25:>                                                         (0 + 8) / 8]\r"
     ]
    },
    {
     "name": "stdout",
     "output_type": "stream",
     "text": [
      "+-----+----------------------+\n",
      "|month|percent_delays_over_30|\n",
      "+-----+----------------------+\n",
      "|    1|      1.14942870038245|\n",
      "|    2|     1.319274532627028|\n",
      "|    3|     1.535145022210609|\n",
      "|    4|    1.5437560871320997|\n",
      "|    5|    1.4784307670380312|\n",
      "|    6|     1.997173195239566|\n",
      "|    7|    2.1120863719504954|\n",
      "|    8|    1.4027127823835428|\n",
      "|    9|    0.8524954272275934|\n",
      "|   10|    0.8709052901631944|\n",
      "|   11|    0.7782621089388793|\n",
      "|   12|    1.7507185785210346|\n",
      "+-----+----------------------+\n",
      "\n"
     ]
    },
    {
     "name": "stderr",
     "output_type": "stream",
     "text": [
      "                                                                                \r"
     ]
    }
   ],
   "source": [
    "# 8. percentual mensal dos voos que tiveram atraso na partida superior a 30 minutos\n",
    "monthly_delays_over_30 = df.filter(col(\"dep_delay\") > 30).groupBy(month(\"time_hour\").alias(\"month\")).agg((count(\"id\") / df.count() * 100).alias(\"percent_delays_over_30\"))\n",
    "monthly_delays_over_30.orderBy(col(\"month\")).show()"
   ]
  },
  {
   "cell_type": "code",
   "execution_count": 13,
   "metadata": {},
   "outputs": [
    {
     "name": "stderr",
     "output_type": "stream",
     "text": [
      "24/10/05 10:17:11 WARN TaskSetManager: Stage 28 contains a task of very large size (3929 KiB). The maximum recommended task size is 1000 KiB.\n",
      "[Stage 28:>                                                         (0 + 8) / 8]\r"
     ]
    },
    {
     "name": "stdout",
     "output_type": "stream",
     "text": [
      "+------+-----------+\n",
      "|origin|num_flights|\n",
      "+------+-----------+\n",
      "|   JFK|       2092|\n",
      "+------+-----------+\n",
      "\n"
     ]
    },
    {
     "name": "stderr",
     "output_type": "stream",
     "text": [
      "                                                                                \r"
     ]
    }
   ],
   "source": [
    "# 9. origem mais comum para voos que pousaram em Seattle (SEA)\n",
    "most_common_origin_to_sea = df.filter(col(\"dest\") == \"SEA\").groupBy(\"origin\").agg(count(\"id\").alias(\"num_flights\")).orderBy(desc(\"num_flights\")).limit(1)\n",
    "most_common_origin_to_sea.show()"
   ]
  },
  {
   "cell_type": "code",
   "execution_count": 14,
   "metadata": {},
   "outputs": [
    {
     "name": "stderr",
     "output_type": "stream",
     "text": [
      "24/10/05 10:17:12 WARN TaskSetManager: Stage 31 contains a task of very large size (3929 KiB). The maximum recommended task size is 1000 KiB.\n",
      "[Stage 31:>                                                         (0 + 8) / 8]\r"
     ]
    },
    {
     "name": "stdout",
     "output_type": "stream",
     "text": [
      "+-----------+------------------+\n",
      "|day_of_week|     avg_dep_delay|\n",
      "+-----------+------------------+\n",
      "|        Sun|11.477475497736561|\n",
      "|        Mon|14.718727814851626|\n",
      "|        Thu| 16.04345133656724|\n",
      "|        Sat|7.5944065195533685|\n",
      "|        Wed|11.643321269945714|\n",
      "|        Tue|10.588355007428211|\n",
      "|        Fri| 14.65397374873792|\n",
      "+-----------+------------------+\n",
      "\n"
     ]
    },
    {
     "name": "stderr",
     "output_type": "stream",
     "text": [
      "                                                                                \r"
     ]
    }
   ],
   "source": [
    "# 10. média de atraso na partida dos voos para cada dia da semana\n",
    "avg_dep_delay_per_day = df.na.drop() \\\n",
    "    .withColumn(\"day_of_week\", date_format(\"time_hour\", \"E\")) \\\n",
    "    .groupBy(\"day_of_week\") \\\n",
    "    .agg(avg(\"dep_delay\").alias(\"avg_dep_delay\"))\n",
    "\n",
    "avg_dep_delay_per_day.show()\n"
   ]
  },
  {
   "cell_type": "code",
   "execution_count": 15,
   "metadata": {},
   "outputs": [
    {
     "name": "stderr",
     "output_type": "stream",
     "text": [
      "24/10/05 10:17:14 WARN TaskSetManager: Stage 34 contains a task of very large size (3929 KiB). The maximum recommended task size is 1000 KiB.\n",
      "[Stage 34:>                                                         (0 + 8) / 8]\r"
     ]
    },
    {
     "name": "stdout",
     "output_type": "stream",
     "text": [
      "+------+----+-----------------+\n",
      "|origin|dest|     avg_air_time|\n",
      "+------+----+-----------------+\n",
      "|   JFK| HNL|623.0877192982456|\n",
      "+------+----+-----------------+\n",
      "\n"
     ]
    },
    {
     "name": "stderr",
     "output_type": "stream",
     "text": [
      "                                                                                \r"
     ]
    }
   ],
   "source": [
    "# 11. rota com maior tempo de voo médio\n",
    "route_with_max_avg_airtime = df.na.drop().groupBy(\"origin\", \"dest\").agg(avg(\"air_time\").alias(\"avg_air_time\")).orderBy(desc(\"avg_air_time\")).limit(1)\n",
    "route_with_max_avg_airtime.show()"
   ]
  },
  {
   "cell_type": "code",
   "execution_count": 16,
   "metadata": {},
   "outputs": [
    {
     "name": "stderr",
     "output_type": "stream",
     "text": [
      "24/10/05 10:17:16 WARN TaskSetManager: Stage 37 contains a task of very large size (3929 KiB). The maximum recommended task size is 1000 KiB.\n",
      "[Stage 37:>                                                         (0 + 8) / 8]\r"
     ]
    },
    {
     "name": "stdout",
     "output_type": "stream",
     "text": [
      "+------+----+-----------+\n",
      "|origin|dest|num_flights|\n",
      "+------+----+-----------+\n",
      "|   EWR| ORD|       6100|\n",
      "|   JFK| LAX|      11262|\n",
      "|   LGA| ATL|      10263|\n",
      "+------+----+-----------+\n",
      "\n"
     ]
    },
    {
     "name": "stderr",
     "output_type": "stream",
     "text": [
      "                                                                                \r"
     ]
    }
   ],
   "source": [
    "# 12. aeroporto de destino mais comum para cada origem\n",
    "window_spec = Window.partitionBy(\"origin\").orderBy(desc(\"num_flights\"))\n",
    "dest_most_common_per_origin = df.groupBy(\"origin\", \"dest\").agg(count(\"id\").alias(\"num_flights\"))\\\n",
    "    .withColumn(\"rank\", row_number().over(window_spec))\\\n",
    "    .filter(col(\"rank\") == 1).drop(\"rank\")\n",
    "\n",
    "dest_most_common_per_origin.show()"
   ]
  },
  {
   "cell_type": "code",
   "execution_count": 17,
   "metadata": {},
   "outputs": [
    {
     "name": "stderr",
     "output_type": "stream",
     "text": [
      "24/10/05 10:17:17 WARN TaskSetManager: Stage 43 contains a task of very large size (3929 KiB). The maximum recommended task size is 1000 KiB.\n",
      "[Stage 43:>                                                         (0 + 8) / 8]\r"
     ]
    },
    {
     "name": "stdout",
     "output_type": "stream",
     "text": [
      "+------+----+------------------+\n",
      "|origin|dest|air_time_variation|\n",
      "+------+----+------------------+\n",
      "|   JFK| SFO|142.59637439881612|\n",
      "|   JFK| EGE|125.55445544554453|\n",
      "|   JFK| LAX| 110.8489111927592|\n",
      "+------+----+------------------+\n",
      "\n"
     ]
    },
    {
     "name": "stderr",
     "output_type": "stream",
     "text": [
      "                                                                                \r"
     ]
    }
   ],
   "source": [
    "# 13. 3 rotas com maior variação no tempo médio de voo\n",
    "routes_with_max_variation_airtime = df.na.drop().groupBy(\"origin\", \"dest\").agg((max(\"air_time\") - avg(\"air_time\")).alias(\"air_time_variation\")).orderBy(desc(\"air_time_variation\")).limit(3)\n",
    "routes_with_max_variation_airtime.show()"
   ]
  },
  {
   "cell_type": "code",
   "execution_count": 18,
   "metadata": {},
   "outputs": [
    {
     "name": "stderr",
     "output_type": "stream",
     "text": [
      "24/10/05 10:17:19 WARN TaskSetManager: Stage 46 contains a task of very large size (3929 KiB). The maximum recommended task size is 1000 KiB.\n",
      "[Stage 46:>                                                         (0 + 8) / 8]\r"
     ]
    },
    {
     "name": "stdout",
     "output_type": "stream",
     "text": [
      "Média de atraso na chegada para voos com atraso na partida superior a 1 hora: 119.04880549963919\n"
     ]
    },
    {
     "name": "stderr",
     "output_type": "stream",
     "text": [
      "                                                                                \r"
     ]
    }
   ],
   "source": [
    "# 14. média de atraso na chegada para voos com atraso na partida superior a 1 hora\n",
    "avg_arr_delay_for_dep_delays_over_1hr = df.filter(col(\"dep_delay\") > 60).na.drop().select(avg(\"arr_delay\")).collect()[0][0]\n",
    "print(f\"Média de atraso na chegada para voos com atraso na partida superior a 1 hora: {avg_arr_delay_for_dep_delays_over_1hr}\")"
   ]
  },
  {
   "cell_type": "code",
   "execution_count": 19,
   "metadata": {},
   "outputs": [
    {
     "name": "stderr",
     "output_type": "stream",
     "text": [
      "24/10/05 10:17:20 WARN TaskSetManager: Stage 49 contains a task of very large size (3929 KiB). The maximum recommended task size is 1000 KiB.\n",
      "[Stage 49:>                                                         (0 + 8) / 8]\r"
     ]
    },
    {
     "name": "stdout",
     "output_type": "stream",
     "text": [
      "+-----+-----------------+\n",
      "|month|avg_daily_flights|\n",
      "+-----+-----------------+\n",
      "|    1|900.1333333333333|\n",
      "|    2|            831.7|\n",
      "|    3|961.1333333333333|\n",
      "|    4|944.3333333333334|\n",
      "|    5|959.8666666666667|\n",
      "|    6|941.4333333333333|\n",
      "|    7|980.8333333333334|\n",
      "|    8|977.5666666666667|\n",
      "|    9|919.1333333333333|\n",
      "|   10|962.9666666666667|\n",
      "|   11|908.9333333333333|\n",
      "|   12|937.8333333333334|\n",
      "+-----+-----------------+\n",
      "\n"
     ]
    },
    {
     "name": "stderr",
     "output_type": "stream",
     "text": [
      "                                                                                \r"
     ]
    }
   ],
   "source": [
    "# 15. média de voos diários para cada mês\n",
    "daily_avg_flights_per_month = df.withColumn(\"month\", month(\"time_hour\")).groupBy(\"month\").agg((count(\"id\") / 30).alias(\"avg_daily_flights\"))\n",
    "daily_avg_flights_per_month.orderBy(col(\"month\")).show()"
   ]
  },
  {
   "cell_type": "code",
   "execution_count": 20,
   "metadata": {},
   "outputs": [
    {
     "name": "stderr",
     "output_type": "stream",
     "text": [
      "24/10/05 10:17:22 WARN TaskSetManager: Stage 52 contains a task of very large size (3929 KiB). The maximum recommended task size is 1000 KiB.\n",
      "[Stage 52:>                                                         (0 + 8) / 8]\r"
     ]
    },
    {
     "name": "stdout",
     "output_type": "stream",
     "text": [
      "+------+----+-----------+\n",
      "|origin|dest|num_flights|\n",
      "+------+----+-----------+\n",
      "|   LGA| ATL|       1785|\n",
      "|   LGA| ORD|       1538|\n",
      "|   JFK| LAX|       1389|\n",
      "+------+----+-----------+\n",
      "\n"
     ]
    },
    {
     "name": "stderr",
     "output_type": "stream",
     "text": [
      "                                                                                \r"
     ]
    }
   ],
   "source": [
    "# 16. 3 rotas mais comuns com atrasos na chegada superiores a 30 minutos\n",
    "top3_routes_with_arr_delays_over_30 = df.filter(col(\"arr_delay\") > 30).groupBy(\"origin\", \"dest\").agg(count(\"id\").alias(\"num_flights\")).orderBy(desc(\"num_flights\")).limit(3)\n",
    "top3_routes_with_arr_delays_over_30.show()"
   ]
  },
  {
   "cell_type": "code",
   "execution_count": 21,
   "metadata": {},
   "outputs": [
    {
     "name": "stderr",
     "output_type": "stream",
     "text": [
      "24/10/05 10:17:27 WARN TaskSetManager: Stage 55 contains a task of very large size (3929 KiB). The maximum recommended task size is 1000 KiB.\n",
      "[Stage 55:>                                                         (0 + 8) / 8]\r"
     ]
    },
    {
     "name": "stdout",
     "output_type": "stream",
     "text": [
      "+------+----+-----------+\n",
      "|origin|dest|num_flights|\n",
      "+------+----+-----------+\n",
      "|   EWR| ORD|       6100|\n",
      "|   JFK| LAX|      11262|\n",
      "|   LGA| ATL|      10263|\n",
      "+------+----+-----------+\n",
      "\n"
     ]
    },
    {
     "name": "stderr",
     "output_type": "stream",
     "text": [
      "                                                                                \r"
     ]
    },
    {
     "name": "stderr",
     "output_type": "stream",
     "text": [
      "----------------------------------------\n",
      "Exception occurred during processing of request from ('127.0.0.1', 33178)\n",
      "Traceback (most recent call last):\n",
      "  File \"/usr/lib/python3.10/socketserver.py\", line 316, in _handle_request_noblock\n",
      "    self.process_request(request, client_address)\n",
      "  File \"/usr/lib/python3.10/socketserver.py\", line 347, in process_request\n",
      "    self.finish_request(request, client_address)\n",
      "  File \"/usr/lib/python3.10/socketserver.py\", line 360, in finish_request\n",
      "    self.RequestHandlerClass(request, client_address, self)\n",
      "  File \"/usr/lib/python3.10/socketserver.py\", line 747, in __init__\n",
      "    self.handle()\n",
      "  File \"/home/plbalmeida/picpay-case-machine-learning-engineer/venv/lib/python3.10/site-packages/pyspark/accumulators.py\", line 295, in handle\n",
      "    poll(accum_updates)\n",
      "  File \"/home/plbalmeida/picpay-case-machine-learning-engineer/venv/lib/python3.10/site-packages/pyspark/accumulators.py\", line 267, in poll\n",
      "    if self.rfile in r and func():\n",
      "  File \"/home/plbalmeida/picpay-case-machine-learning-engineer/venv/lib/python3.10/site-packages/pyspark/accumulators.py\", line 271, in accum_updates\n",
      "    num_updates = read_int(self.rfile)\n",
      "  File \"/home/plbalmeida/picpay-case-machine-learning-engineer/venv/lib/python3.10/site-packages/pyspark/serializers.py\", line 596, in read_int\n",
      "    raise EOFError\n",
      "EOFError\n",
      "----------------------------------------\n"
     ]
    }
   ],
   "source": [
    "# 17. principal destino para cada origem\n",
    "window_spec = Window.partitionBy(\"origin\").orderBy(desc(\"num_flights\"))\n",
    "main_dest_per_origin = df.groupBy(\"origin\", \"dest\").agg(count(\"id\").alias(\"num_flights\"))\\\n",
    "    .withColumn(\"rank\", row_number().over(window_spec))\\\n",
    "    .filter(col(\"rank\") == 1).drop(\"rank\")\n",
    "\n",
    "main_dest_per_origin.show()"
   ]
  }
 ],
 "metadata": {
  "kernelspec": {
   "display_name": "venv",
   "language": "python",
   "name": "python3"
  },
  "language_info": {
   "codemirror_mode": {
    "name": "ipython",
    "version": 3
   },
   "file_extension": ".py",
   "mimetype": "text/x-python",
   "name": "python",
   "nbconvert_exporter": "python",
   "pygments_lexer": "ipython3",
   "version": "3.10.12"
  }
 },
 "nbformat": 4,
 "nbformat_minor": 2
}
