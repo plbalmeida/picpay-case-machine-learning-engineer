{
 "cells": [
  {
   "cell_type": "code",
   "execution_count": 1,
   "metadata": {},
   "outputs": [
    {
     "name": "stderr",
     "output_type": "stream",
     "text": [
      "your 131072x1 screen size is bogus. expect trouble\n",
      "24/10/09 12:02:52 WARN Utils: Your hostname, ubuntu resolves to a loopback address: 127.0.1.1; using 172.24.246.235 instead (on interface eth0)\n",
      "24/10/09 12:02:53 WARN Utils: Set SPARK_LOCAL_IP if you need to bind to another address\n",
      "Setting default log level to \"WARN\".\n",
      "To adjust logging level use sc.setLogLevel(newLevel). For SparkR, use setLogLevel(newLevel).\n",
      "24/10/09 12:02:55 WARN NativeCodeLoader: Unable to load native-hadoop library for your platform... using builtin-java classes where applicable\n",
      "24/10/09 12:02:56 WARN Utils: Service 'SparkUI' could not bind on port 4040. Attempting port 4041.\n",
      "                                                                                \r"
     ]
    }
   ],
   "source": [
    "from pyspark.sql import SparkSession\n",
    "from pyspark.sql.functions import avg, col, count, date_format, desc, max, month, row_number\n",
    "from pyspark.sql.window import Window\n",
    "\n",
    "\n",
    "# inicializando a SparkSession\n",
    "spark = SparkSession.builder.appName(\"EDA\").getOrCreate()\n",
    "\n",
    "# lendo dados de 'data/processed/'\n",
    "df = spark.read.parquet(\"../data/processed/\")"
   ]
  },
  {
   "cell_type": "code",
   "execution_count": 2,
   "metadata": {},
   "outputs": [
    {
     "name": "stderr",
     "output_type": "stream",
     "text": [
      "                                                                                \r"
     ]
    },
    {
     "name": "stdout",
     "output_type": "stream",
     "text": [
      "+-----+----+-----+---+--------+--------------+---------+--------+--------------+---------+-------+------+-------+------+----+--------+--------+----+------+-------------------+--------------------+----------+---------------+-------------+\n",
      "|   id|year|month|day|dep_time|sched_dep_time|dep_delay|arr_time|sched_arr_time|arr_delay|carrier|flight|tailnum|origin|dest|air_time|distance|hour|minute|          time_hour|                name|      date|wind_spd_origin|wind_spd_dest|\n",
      "+-----+----+-----+---+--------+--------------+---------+--------+--------------+---------+-------+------+-------+------+----+--------+--------+----+------+-------------------+--------------------+----------+---------------+-------------+\n",
      "|16528|2013|    1| 20|   525.0|           525|      0.0|   832.0|           821|     11.0|     UA|  1545| N78285|   EWR| IAH|   228.0|    1400|   5|    25|2013-01-20 05:00:00|United Air Lines ...|2013-01-20|           NULL|         NULL|\n",
      "|16530|2013|    1| 20|   555.0|           600|     -5.0|   911.0|           859|     12.0|     B6|   507| N608JB|   EWR| FLL|   180.0|    1065|   6|     0|2013-01-20 06:00:00|     JetBlue Airways|2013-01-20|           NULL|         NULL|\n",
      "|16531|2013|    1| 20|   556.0|           600|     -4.0|   700.0|           716|    -16.0|     EV|  4201| N41104|   EWR| IAD|    45.0|     212|   6|     0|2013-01-20 06:00:00|ExpressJet Airlin...|2013-01-20|           NULL|         NULL|\n",
      "|16541|2013|    1| 20|   609.0|           610|     -1.0|   900.0|           910|    -10.0|     AA|  1895| N5EGAA|   EWR| MIA|   149.0|    1085|   6|    10|2013-01-20 06:00:00|American Airlines...|2013-01-20|           NULL|         NULL|\n",
      "|16542|2013|    1| 20|   612.0|           600|     12.0|   925.0|           927|     -2.0|     UA|  1737| N27421|   EWR| LAX|   348.0|    2454|   6|     0|2013-01-20 06:00:00|United Air Lines ...|2013-01-20|           NULL|         NULL|\n",
      "|16547|2013|    1| 20|   620.0|           620|      0.0|   807.0|           835|    -28.0|     EV|  4292| N25134|   EWR| CLT|    87.0|     529|   6|    20|2013-01-20 06:00:00|ExpressJet Airlin...|2013-01-20|           NULL|         NULL|\n",
      "|16550|2013|    1| 20|   621.0|           630|     -9.0|   811.0|           831|    -20.0|     US|  1485| N537UW|   EWR| CLT|    88.0|     529|   6|    30|2013-01-20 06:00:00|     US Airways Inc.|2013-01-20|           NULL|         NULL|\n",
      "|16551|2013|    1| 20|   622.0|           621|      1.0|   924.0|           930|     -6.0|     UA|   772| N593UA|   EWR| MIA|   162.0|    1085|   6|    21|2013-01-20 06:00:00|United Air Lines ...|2013-01-20|           NULL|         NULL|\n",
      "|16552|2013|    1| 20|   623.0|           630|     -7.0|   955.0|          1014|    -19.0|     UA|   470| N491UA|   EWR| PHX|   310.0|    2133|   6|    30|2013-01-20 06:00:00|United Air Lines ...|2013-01-20|           NULL|         NULL|\n",
      "|16554|2013|    1| 20|   625.0|           632|     -7.0|   801.0|           804|     -3.0|     EV|  3271| N13956|   EWR| BNA|   121.0|     748|   6|    32|2013-01-20 06:00:00|ExpressJet Airlin...|2013-01-20|           NULL|         NULL|\n",
      "|16560|2013|    1| 20|   633.0|           635|     -2.0|  1006.0|          1000|      6.0|     UA|   421| N827UA|   EWR| SFO|   373.0|    2565|   6|    35|2013-01-20 06:00:00|United Air Lines ...|2013-01-20|           NULL|         NULL|\n",
      "|16561|2013|    1| 20|   633.0|           636|     -3.0|   935.0|           945|    -10.0|     UA|  1701| N77258|   EWR| FLL|   159.0|    1065|   6|    36|2013-01-20 06:00:00|United Air Lines ...|2013-01-20|           NULL|         NULL|\n",
      "|16563|2013|    1| 20|   637.0|           645|     -8.0|   835.0|           846|    -11.0|     US|   926| N178US|   EWR| CLT|    85.0|     529|   6|    45|2013-01-20 06:00:00|     US Airways Inc.|2013-01-20|           NULL|         NULL|\n",
      "|16565|2013|    1| 20|   649.0|           649|      0.0|   931.0|           912|     19.0|     UA|   311| N495UA|   EWR| DEN|   249.0|    1605|   6|    49|2013-01-20 06:00:00|United Air Lines ...|2013-01-20|           NULL|         NULL|\n",
      "|16567|2013|    1| 20|   651.0|           653|     -2.0|  1022.0|           937|     45.0|     UA|  1506| N39463|   EWR| LAS|   356.0|    2227|   6|    53|2013-01-20 06:00:00|United Air Lines ...|2013-01-20|           NULL|         NULL|\n",
      "|16572|2013|    1| 20|   655.0|           705|    -10.0|   930.0|           937|     -7.0|     EV|  4304| N12126|   EWR| MSY|   189.0|    1167|   7|     5|2013-01-20 07:00:00|ExpressJet Airlin...|2013-01-20|           NULL|         NULL|\n",
      "|16576|2013|    1| 20|   658.0|           700|     -2.0|   835.0|           836|     -1.0|     UA|  1277| N34222|   EWR| ORD|   129.0|     719|   7|     0|2013-01-20 07:00:00|United Air Lines ...|2013-01-20|           NULL|         NULL|\n",
      "|16578|2013|    1| 20|   700.0|           710|    -10.0|   832.0|           850|    -18.0|     MQ|  3737| N523MQ|   EWR| ORD|   125.0|     719|   7|    10|2013-01-20 07:00:00|           Envoy Air|2013-01-20|           NULL|         NULL|\n",
      "|16581|2013|    1| 20|   704.0|           725|    -21.0|  1025.0|          1035|    -10.0|     AS|    11| N556AS|   EWR| SEA|   348.0|    2402|   7|    25|2013-01-20 07:00:00|Alaska Airlines Inc.|2013-01-20|           NULL|         NULL|\n",
      "|16582|2013|    1| 20|   705.0|           709|     -4.0|  1017.0|          1021|     -4.0|     UA|  1525| N38459|   EWR| RSW|   172.0|    1068|   7|     9|2013-01-20 07:00:00|United Air Lines ...|2013-01-20|           NULL|         NULL|\n",
      "+-----+----+-----+---+--------+--------------+---------+--------+--------------+---------+-------+------+-------+------+----+--------+--------+----+------+-------------------+--------------------+----------+---------------+-------------+\n",
      "only showing top 20 rows\n",
      "\n"
     ]
    }
   ],
   "source": [
    "# primeiras linhas do DataFrame\n",
    "df.show()"
   ]
  },
  {
   "cell_type": "code",
   "execution_count": 3,
   "metadata": {},
   "outputs": [
    {
     "name": "stdout",
     "output_type": "stream",
     "text": [
      "root\n",
      " |-- id: long (nullable = true)\n",
      " |-- year: long (nullable = true)\n",
      " |-- month: long (nullable = true)\n",
      " |-- day: long (nullable = true)\n",
      " |-- dep_time: double (nullable = true)\n",
      " |-- sched_dep_time: long (nullable = true)\n",
      " |-- dep_delay: double (nullable = true)\n",
      " |-- arr_time: double (nullable = true)\n",
      " |-- sched_arr_time: long (nullable = true)\n",
      " |-- arr_delay: double (nullable = true)\n",
      " |-- carrier: string (nullable = true)\n",
      " |-- flight: long (nullable = true)\n",
      " |-- tailnum: string (nullable = true)\n",
      " |-- origin: string (nullable = true)\n",
      " |-- dest: string (nullable = true)\n",
      " |-- air_time: double (nullable = true)\n",
      " |-- distance: long (nullable = true)\n",
      " |-- hour: long (nullable = true)\n",
      " |-- minute: long (nullable = true)\n",
      " |-- time_hour: timestamp (nullable = true)\n",
      " |-- name: string (nullable = true)\n",
      " |-- date: date (nullable = true)\n",
      " |-- wind_spd_origin: double (nullable = true)\n",
      " |-- wind_spd_dest: double (nullable = true)\n",
      "\n"
     ]
    }
   ],
   "source": [
    "# schema da tabela\n",
    "df.printSchema()"
   ]
  },
  {
   "cell_type": "code",
   "execution_count": 4,
   "metadata": {},
   "outputs": [
    {
     "name": "stdout",
     "output_type": "stream",
     "text": [
      "Número total de voos: 336776\n"
     ]
    }
   ],
   "source": [
    "# 1. número total de voos\n",
    "total_flights = df.count()\n",
    "print(f\"Número total de voos: {total_flights}\")"
   ]
  },
  {
   "cell_type": "code",
   "execution_count": 5,
   "metadata": {},
   "outputs": [
    {
     "name": "stdout",
     "output_type": "stream",
     "text": [
      "Número de voos cancelados: 0\n"
     ]
    }
   ],
   "source": [
    "# 2. número de voos cancelados (dep_time e arr_time nulos)\n",
    "cancelled_flights = df.filter(col(\"dep_time\").isNull() & col(\"arr_time\").isNull()).count()\n",
    "print(f\"Número de voos cancelados: {cancelled_flights}\")"
   ]
  },
  {
   "cell_type": "code",
   "execution_count": 6,
   "metadata": {},
   "outputs": [
    {
     "name": "stdout",
     "output_type": "stream",
     "text": [
      "Atraso médio na partida: 39.37323252771895 minutos\n"
     ]
    }
   ],
   "source": [
    "# 3. atraso médio na partida (dep_delay)\n",
    "df_dep_delay = df.select(\"dep_delay\")\n",
    "avg_dep_delay = df_dep_delay.filter(col(\"dep_delay\").isNotNull() & (col(\"dep_delay\") > 0)).na.drop().select(avg(\"dep_delay\")).collect()[0][0]\n",
    "print(f\"Atraso médio na partida: {avg_dep_delay} minutos\")"
   ]
  },
  {
   "cell_type": "code",
   "execution_count": 7,
   "metadata": {},
   "outputs": [
    {
     "name": "stderr",
     "output_type": "stream",
     "text": [
      "[Stage 11:>                                                         (0 + 8) / 8]\r"
     ]
    },
    {
     "name": "stdout",
     "output_type": "stream",
     "text": [
      "+----+------------+\n",
      "|dest|num_landings|\n",
      "+----+------------+\n",
      "| ORD|       17283|\n",
      "| ATL|       17215|\n",
      "| LAX|       16174|\n",
      "| BOS|       15508|\n",
      "| MCO|       14082|\n",
      "+----+------------+\n",
      "\n"
     ]
    },
    {
     "name": "stderr",
     "output_type": "stream",
     "text": [
      "                                                                                \r"
     ]
    }
   ],
   "source": [
    "# 4. 5 aeroportos com maior número de pousos\n",
    "df_airports_landings = df.select(\"id\", \"dest\")\n",
    "top5_airports_landings = df_airports_landings.groupBy(\"dest\").agg(count(\"id\").alias(\"num_landings\")).orderBy(desc(\"num_landings\")).limit(5)\n",
    "top5_airports_landings.show()"
   ]
  },
  {
   "cell_type": "code",
   "execution_count": 8,
   "metadata": {},
   "outputs": [
    {
     "name": "stderr",
     "output_type": "stream",
     "text": [
      "[Stage 14:====================================>                     (5 + 3) / 8]\r"
     ]
    },
    {
     "name": "stdout",
     "output_type": "stream",
     "text": [
      "+------+----+-----------+\n",
      "|origin|dest|num_flights|\n",
      "+------+----+-----------+\n",
      "|   JFK| LAX|      11262|\n",
      "+------+----+-----------+\n",
      "\n"
     ]
    },
    {
     "name": "stderr",
     "output_type": "stream",
     "text": [
      "                                                                                \r"
     ]
    }
   ],
   "source": [
    "# 5. rota mais frequente (par origin-dest)\n",
    "most_frequent_route = df.groupBy(\"origin\", \"dest\").agg(count(\"id\").alias(\"num_flights\")).orderBy(desc(\"num_flights\")).limit(1)\n",
    "most_frequent_route.show()"
   ]
  },
  {
   "cell_type": "code",
   "execution_count": 9,
   "metadata": {},
   "outputs": [
    {
     "name": "stdout",
     "output_type": "stream",
     "text": [
      "+-------+------------------+\n",
      "|carrier|     avg_arr_delay|\n",
      "+-------+------------------+\n",
      "|     F9|21.920704845814978|\n",
      "|     FL|20.115905511811025|\n",
      "|     EV| 15.79643108710965|\n",
      "|     YV|15.556985294117647|\n",
      "|     OO|11.931034482758621|\n",
      "+-------+------------------+\n",
      "\n"
     ]
    }
   ],
   "source": [
    "# 6. 5 companhias aéreas com maior tempo médio de atraso na chegada\n",
    "df_carriers_avg_arr_delay = df.select(\"carrier\", \"arr_delay\")\n",
    "top5_carriers_avg_arr_delay = df_carriers_avg_arr_delay.na.drop().groupBy(\"carrier\").agg(avg(\"arr_delay\").alias(\"avg_arr_delay\")).orderBy(desc(\"avg_arr_delay\")).limit(5)\n",
    "top5_carriers_avg_arr_delay.show()"
   ]
  },
  {
   "cell_type": "code",
   "execution_count": 10,
   "metadata": {},
   "outputs": [
    {
     "name": "stdout",
     "output_type": "stream",
     "text": [
      "+-----------+-----------+\n",
      "|day_of_week|num_flights|\n",
      "+-----------+-----------+\n",
      "|        Mon|      50690|\n",
      "+-----------+-----------+\n",
      "\n"
     ]
    }
   ],
   "source": [
    "# 7. dia da semana com maior número de voos\n",
    "day_of_week_with_most_flights = df.withColumn(\"day_of_week\", date_format(\"time_hour\", \"E\")).groupBy(\"day_of_week\").agg(count(\"id\").alias(\"num_flights\")).orderBy(desc(\"num_flights\")).limit(1)\n",
    "day_of_week_with_most_flights.show()"
   ]
  },
  {
   "cell_type": "code",
   "execution_count": 11,
   "metadata": {},
   "outputs": [
    {
     "name": "stderr",
     "output_type": "stream",
     "text": [
      "[Stage 26:==================================================>       (7 + 1) / 8]\r"
     ]
    },
    {
     "name": "stdout",
     "output_type": "stream",
     "text": [
      "+-----+----------------------+\n",
      "|month|percent_delays_over_30|\n",
      "+-----+----------------------+\n",
      "|    1|      1.14942870038245|\n",
      "|    2|     1.319274532627028|\n",
      "|    3|     1.535145022210609|\n",
      "|    4|    1.5437560871320997|\n",
      "|    5|    1.4784307670380312|\n",
      "|    6|     1.997173195239566|\n",
      "|    7|    2.1120863719504954|\n",
      "|    8|    1.4027127823835428|\n",
      "|    9|    0.8524954272275934|\n",
      "|   10|    0.8709052901631944|\n",
      "|   11|    0.7782621089388793|\n",
      "|   12|    1.7507185785210346|\n",
      "+-----+----------------------+\n",
      "\n"
     ]
    },
    {
     "name": "stderr",
     "output_type": "stream",
     "text": [
      "                                                                                \r"
     ]
    }
   ],
   "source": [
    "# 8. percentual mensal dos voos que tiveram atraso na partida superior a 30 minutos\n",
    "monthly_delays_over_30 = df.filter(col(\"dep_delay\") > 30).groupBy(month(\"time_hour\").alias(\"month\")).agg((count(\"id\") / df.count() * 100).alias(\"percent_delays_over_30\"))\n",
    "monthly_delays_over_30.orderBy(col(\"month\")).show()"
   ]
  },
  {
   "cell_type": "code",
   "execution_count": 12,
   "metadata": {},
   "outputs": [
    {
     "name": "stdout",
     "output_type": "stream",
     "text": [
      "+------+-----------+\n",
      "|origin|num_flights|\n",
      "+------+-----------+\n",
      "|   JFK|       2092|\n",
      "+------+-----------+\n",
      "\n"
     ]
    }
   ],
   "source": [
    "# 9. origem mais comum para voos que pousaram em Seattle (SEA)\n",
    "most_common_origin_to_sea = df.filter(col(\"dest\") == \"SEA\").groupBy(\"origin\").agg(count(\"id\").alias(\"num_flights\")).orderBy(desc(\"num_flights\")).limit(1)\n",
    "most_common_origin_to_sea.show()"
   ]
  },
  {
   "cell_type": "code",
   "execution_count": 13,
   "metadata": {},
   "outputs": [
    {
     "name": "stdout",
     "output_type": "stream",
     "text": [
      "+-----------+------------------+\n",
      "|day_of_week|     avg_dep_delay|\n",
      "+-----------+------------------+\n",
      "|        Sun|11.589531801152422|\n",
      "|        Mon|14.778936729330908|\n",
      "|        Thu|16.148919990957108|\n",
      "|        Sat| 7.650502333676133|\n",
      "|        Wed|11.803512219083876|\n",
      "|        Fri| 14.69605749486653|\n",
      "|        Tue|10.631682565455652|\n",
      "+-----------+------------------+\n",
      "\n"
     ]
    }
   ],
   "source": [
    "# 10. média de atraso na partida dos voos para cada dia da semana\n",
    "df_avg_dep_delay_per_day = df.select(\"time_hour\", \"dep_delay\")\n",
    "\n",
    "avg_dep_delay_per_day = df_avg_dep_delay_per_day.na.drop() \\\n",
    "    .withColumn(\"day_of_week\", date_format(\"time_hour\", \"E\")) \\\n",
    "    .groupBy(\"day_of_week\") \\\n",
    "    .agg(avg(\"dep_delay\").alias(\"avg_dep_delay\"))\n",
    "\n",
    "avg_dep_delay_per_day.show()\n"
   ]
  },
  {
   "cell_type": "code",
   "execution_count": 14,
   "metadata": {},
   "outputs": [
    {
     "name": "stdout",
     "output_type": "stream",
     "text": [
      "+------+----+-----------------+\n",
      "|origin|dest|     avg_air_time|\n",
      "+------+----+-----------------+\n",
      "|   JFK| HNL|623.0877192982456|\n",
      "+------+----+-----------------+\n",
      "\n"
     ]
    }
   ],
   "source": [
    "# 11. rota com maior tempo de voo médio\n",
    "df_route_with_max_avg_airtime = df.select(\"origin\", \"dest\", \"air_time\")\n",
    "route_with_max_avg_airtime = df_route_with_max_avg_airtime.na.drop().groupBy(\"origin\", \"dest\").agg(avg(\"air_time\").alias(\"avg_air_time\")).orderBy(desc(\"avg_air_time\")).limit(1)\n",
    "route_with_max_avg_airtime.show()"
   ]
  },
  {
   "cell_type": "code",
   "execution_count": 15,
   "metadata": {},
   "outputs": [
    {
     "name": "stdout",
     "output_type": "stream",
     "text": [
      "+------+----+-----------+\n",
      "|origin|dest|num_flights|\n",
      "+------+----+-----------+\n",
      "|   EWR| ORD|       6100|\n",
      "|   JFK| LAX|      11262|\n",
      "|   LGA| ATL|      10263|\n",
      "+------+----+-----------+\n",
      "\n"
     ]
    }
   ],
   "source": [
    "# 12. aeroporto de destino mais comum para cada origem\n",
    "window_spec = Window.partitionBy(\"origin\").orderBy(desc(\"num_flights\"))\n",
    "dest_most_common_per_origin = df.groupBy(\"origin\", \"dest\").agg(count(\"id\").alias(\"num_flights\"))\\\n",
    "    .withColumn(\"rank\", row_number().over(window_spec))\\\n",
    "    .filter(col(\"rank\") == 1).drop(\"rank\")\n",
    "\n",
    "dest_most_common_per_origin.show()"
   ]
  },
  {
   "cell_type": "code",
   "execution_count": 16,
   "metadata": {},
   "outputs": [
    {
     "name": "stdout",
     "output_type": "stream",
     "text": [
      "+------+----+------------------+\n",
      "|origin|dest|air_time_variation|\n",
      "+------+----+------------------+\n",
      "|   JFK| SFO|142.59637439881612|\n",
      "|   JFK| EGE|125.55445544554453|\n",
      "|   JFK| LAX| 110.8489111927592|\n",
      "+------+----+------------------+\n",
      "\n"
     ]
    }
   ],
   "source": [
    "# 13. 3 rotas com maior variação no tempo médio de voo\n",
    "df_routes_with_max_variation_airtime = df.select(\"origin\", \"dest\", \"air_time\")\n",
    "routes_with_max_variation_airtime = df_routes_with_max_variation_airtime.na.drop().groupBy(\"origin\", \"dest\").agg((max(\"air_time\") - avg(\"air_time\")).alias(\"air_time_variation\")).orderBy(desc(\"air_time_variation\")).limit(3)\n",
    "routes_with_max_variation_airtime.show()"
   ]
  },
  {
   "cell_type": "code",
   "execution_count": 17,
   "metadata": {},
   "outputs": [
    {
     "name": "stdout",
     "output_type": "stream",
     "text": [
      "Média de atraso na chegada para voos com atraso na partida superior a 1 hora: 119.04880549963919\n"
     ]
    }
   ],
   "source": [
    "# 14. média de atraso na chegada para voos com atraso na partida superior a 1 hora\n",
    "df_avg_arr_delay_for_dep_delays_over_1hr = df.select(\"dep_delay\", \"arr_delay\")\n",
    "avg_arr_delay_for_dep_delays_over_1hr = df_avg_arr_delay_for_dep_delays_over_1hr.filter(col(\"dep_delay\") > 60).na.drop().select(avg(\"arr_delay\")).collect()[0][0]\n",
    "print(f\"Média de atraso na chegada para voos com atraso na partida superior a 1 hora: {avg_arr_delay_for_dep_delays_over_1hr}\")"
   ]
  },
  {
   "cell_type": "code",
   "execution_count": 18,
   "metadata": {},
   "outputs": [
    {
     "name": "stdout",
     "output_type": "stream",
     "text": [
      "+-----+-----------------+\n",
      "|month|avg_daily_flights|\n",
      "+-----+-----------------+\n",
      "|    1|900.1333333333333|\n",
      "|    2|            831.7|\n",
      "|    3|961.1333333333333|\n",
      "|    4|944.3333333333334|\n",
      "|    5|959.8666666666667|\n",
      "|    6|941.4333333333333|\n",
      "|    7|980.8333333333334|\n",
      "|    8|977.5666666666667|\n",
      "|    9|919.1333333333333|\n",
      "|   10|962.9666666666667|\n",
      "|   11|908.9333333333333|\n",
      "|   12|937.8333333333334|\n",
      "+-----+-----------------+\n",
      "\n"
     ]
    }
   ],
   "source": [
    "# 15. média de voos diários para cada mês\n",
    "df_daily_avg_flights_per_month = df.select(\"id\", \"time_hour\")\n",
    "daily_avg_flights_per_month = df.withColumn(\"month\", month(\"time_hour\")).groupBy(\"month\").agg((count(\"id\") / 30).alias(\"avg_daily_flights\"))\n",
    "daily_avg_flights_per_month.orderBy(col(\"month\")).show()"
   ]
  },
  {
   "cell_type": "code",
   "execution_count": 19,
   "metadata": {},
   "outputs": [
    {
     "name": "stdout",
     "output_type": "stream",
     "text": [
      "+------+----+-----------+\n",
      "|origin|dest|num_flights|\n",
      "+------+----+-----------+\n",
      "|   LGA| ATL|       1785|\n",
      "|   LGA| ORD|       1538|\n",
      "|   JFK| LAX|       1389|\n",
      "+------+----+-----------+\n",
      "\n"
     ]
    }
   ],
   "source": [
    "# 16. 3 rotas mais comuns com atrasos na chegada superiores a 30 minutos\n",
    "top3_routes_with_arr_delays_over_30 = df.filter(col(\"arr_delay\") > 30).groupBy(\"origin\", \"dest\").agg(count(\"id\").alias(\"num_flights\")).orderBy(desc(\"num_flights\")).limit(3)\n",
    "top3_routes_with_arr_delays_over_30.show()"
   ]
  },
  {
   "cell_type": "code",
   "execution_count": 20,
   "metadata": {},
   "outputs": [
    {
     "name": "stdout",
     "output_type": "stream",
     "text": [
      "+------+----+-----------+\n",
      "|origin|dest|num_flights|\n",
      "+------+----+-----------+\n",
      "|   EWR| ORD|       6100|\n",
      "|   JFK| LAX|      11262|\n",
      "|   LGA| ATL|      10263|\n",
      "+------+----+-----------+\n",
      "\n"
     ]
    }
   ],
   "source": [
    "# 17. principal destino para cada origem\n",
    "window_spec = Window.partitionBy(\"origin\").orderBy(desc(\"num_flights\"))\n",
    "main_dest_per_origin = df.groupBy(\"origin\", \"dest\").agg(count(\"id\").alias(\"num_flights\"))\\\n",
    "    .withColumn(\"rank\", row_number().over(window_spec))\\\n",
    "    .filter(col(\"rank\") == 1).drop(\"rank\")\n",
    "\n",
    "main_dest_per_origin.show()"
   ]
  }
 ],
 "metadata": {
  "kernelspec": {
   "display_name": "venv",
   "language": "python",
   "name": "python3"
  },
  "language_info": {
   "codemirror_mode": {
    "name": "ipython",
    "version": 3
   },
   "file_extension": ".py",
   "mimetype": "text/x-python",
   "name": "python",
   "nbconvert_exporter": "python",
   "pygments_lexer": "ipython3",
   "version": "3.10.12"
  }
 },
 "nbformat": 4,
 "nbformat_minor": 2
}
